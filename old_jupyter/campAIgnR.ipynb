{
 "cells": [
  {
   "cell_type": "markdown",
   "id": "79f74337-845b-49cc-86de-b12c60231cca",
   "metadata": {},
   "source": [
    "# campAIgnR v01\n",
    "\n",
    "\n",
    "#### Import"
   ]
  },
  {
   "cell_type": "code",
   "execution_count": null,
   "id": "4bc16b27-d31b-4246-abf8-0fd1997f2c8b",
   "metadata": {},
   "outputs": [],
   "source": [
    "from utils import *"
   ]
  },
  {
   "cell_type": "markdown",
   "id": "7e7ffaa0-4a1c-4dcc-a138-103a4b4aca19",
   "metadata": {},
   "source": [
    "### 1 Concept Prompt and Execution"
   ]
  },
  {
   "cell_type": "code",
   "execution_count": null,
   "id": "d2d84980-513e-4e33-a575-c8525496eb67",
   "metadata": {},
   "outputs": [],
   "source": [
    "#campaign_ideas = generate_campaign_concept(15)\n",
    "#campaign_ideas"
   ]
  },
  {
   "cell_type": "code",
   "execution_count": null,
   "id": "8b3edf7d-de6a-41ff-bcd3-cb25ca380e87",
   "metadata": {},
   "outputs": [],
   "source": [
    "#campaign_ideas[11]"
   ]
  },
  {
   "cell_type": "markdown",
   "id": "628faa0a-2e8b-4187-af17-65363bc0c0e3",
   "metadata": {},
   "source": [
    "### 2 Basic Plan Generation"
   ]
  },
  {
   "cell_type": "code",
   "execution_count": null,
   "id": "0d204b94-4caf-4227-960c-d6668f3e31a8",
   "metadata": {},
   "outputs": [],
   "source": [
    "#campaign_concept  = campaign_ideas[11]\n",
    "\n",
    "\n",
    "\n",
    "campaign_concept =  'Issue: Hydration Habits on Campus – A Thirst for Change. Need: Many college students are under-hydrated, unaware of how much water they need, and unsure how to build sustainable hydration habits. Goal: Educate students about the importance of proper hydration, provide easy and practical strategies, and motivate lasting behavior change for better health and energy.'\n",
    "    \n",
    "basic_campaign_plan = generate_basic_campaign_plan(campaign_concept)\n",
    "\n",
    "#for i in range(len(basic_campaign_plan)):\n",
    "#    print(i)\n",
    "#    print(basic_campaign_plan[i][:50])\n",
    "#    print('----')"
   ]
  },
  {
   "cell_type": "code",
   "execution_count": null,
   "id": "55cb21cd-7dd9-4876-92cc-dd4012920802",
   "metadata": {},
   "outputs": [],
   "source": [
    "for i in range(len(basic_campaign_plan)):\n",
    "    print(i)\n",
    "    print(basic_campaign_plan[i][:50])\n",
    "    print('----')"
   ]
  },
  {
   "cell_type": "markdown",
   "id": "43abc769-18b4-4009-98f4-84107724fe6a",
   "metadata": {},
   "source": [
    "### 3 Title Extraction and Cover Image"
   ]
  },
  {
   "cell_type": "code",
   "execution_count": null,
   "id": "07a1d8e2-6046-4b85-a3b4-39815b1068dd",
   "metadata": {},
   "outputs": [],
   "source": [
    "campaign_title_prompt = \"Extract and return only the campaign title from the following description\" +\\\n",
    "                        \"and then add '- A campAIgnR project'. Just return the title and appendix, no other symbols or text, especially no colons, question or exclamaion marks, or anything like that.\"+\\\n",
    "                        \"Here comes the description -> \" + basic_campaign_plan[0] + \". \"\n",
    "\n",
    "campaign_title = generate_simple(campaign_title_prompt)\n",
    "image_title_path = generate_campaign_cover(campaign_title)"
   ]
  },
  {
   "cell_type": "code",
   "execution_count": null,
   "id": "598eb9ec-21c5-4cc7-a156-8a5c3911c29d",
   "metadata": {},
   "outputs": [],
   "source": [
    "basic_campaign_plan[1]"
   ]
  },
  {
   "cell_type": "markdown",
   "id": "5346bfa2-6053-4f90-9014-06a98d9acca6",
   "metadata": {},
   "source": [
    "### 6 Generate Main Story Line"
   ]
  },
  {
   "cell_type": "code",
   "execution_count": null,
   "id": "0bf96a5a-0b07-4061-8601-d89d607f329e",
   "metadata": {},
   "outputs": [],
   "source": [
    "revised_sections = []\n",
    "n_sections = len(basic_campaign_plan)\n",
    "print('Title: ')\n",
    "print(basic_campaign_plan[0])\n",
    "\n",
    "for current_section in np.arange(1, n_sections):\n",
    "    print('------------ SECTION -----------')\n",
    "    print(current_section +1 )\n",
    "    section_writeout_prompt =  \"You are writing a campaign plan for a public health campaign\" +\\\n",
    "                               \"You are given a high-level concept description and then a specific section that you will write out.\"+\\\n",
    "                               \"Overall concept: -> \" + campaign_concept + \". This was the overall concept. The campaign title is \" +\\\n",
    "                               \"Title: -> \" + campaign_title + \".  The campaign has the following sections: Title, Introduction, Goals \" +\\\n",
    "                               \"Formative Research (Strucured into Situation Analysis,Audience Analysis, and Previous Communication Evaluation, \"+\\\n",
    "                               \"Theory and Messages, Exposure and Channels, Evaluation, and Appendix (budget, timeline, personnel etc). \"+\\\n",
    "                               \"Your job now is to write out one specific section. In particular, you are to expand this \"+\\\n",
    "                               \"section: \" + basic_campaign_plan[current_section] + \". This was the section. Now your job:\"+\\\n",
    "                               \"Write out this section into a compelling plan. \"+\\\n",
    "                               \"You can use 600 words or even more, though some sections (like introduction) could also be shorter\"+\\\n",
    "                               \" Make everything well-connected, documented, backed by facts (true ones, not made up).\" +\\\n",
    "                               \"Use short and well-crafed sentences.\" +\\\n",
    "                               \"Make sure the section is logical and well-connected to the other sections, which you may reference. \" +\\\n",
    "                               \"It is also engaging, written in a positive tone.\"+\\\n",
    "                               \"You remove all symbols, like '#' , or emojis, or other weird things like '[]' or '{}' etc. Just return very clean and plain text.\" \n",
    "                               \n",
    "    result = generate_simple(section_writeout_prompt)\n",
    "    print(result)   \n",
    "    \n",
    "        \n",
    "    revised_sections.append(result)\n",
    "\n"
   ]
  },
  {
   "cell_type": "code",
   "execution_count": null,
   "id": "b2e4ef40-d5e4-4ada-a0e9-ffefd3576b39",
   "metadata": {},
   "outputs": [],
   "source": [
    "def flatten_list(nested_list):\n",
    "    \"\"\"Recursively flatten a nested list and prepend an index.\"\"\"\n",
    "    index = 1  # Start index at 1\n",
    "    for item in nested_list:\n",
    "        if isinstance(item, list):\n",
    "            # Yield the list header\n",
    "            yield f\"\\n\\nScene #{index}\\n\\n\"  # Add the list header\n",
    "            yield from flatten_list(item)  # Recurse into the sublist\n",
    "            index += 1  # Increment the index for each sublist\n",
    "        else:\n",
    "            yield item  # If it's not a list, yield the item\n",
    "\n",
    "cleaned_text = []\n",
    "for line in flatten_list(revised_sections):\n",
    "    cleaned_line = line.lstrip('``')  # Remove leading ```\n",
    "    cleaned_line = line.lstrip('``')  # Remove leading ```\n",
    "    cleaned_line = cleaned_line.replace('plaintext', '')  # Remove 'plaintext'\n",
    "    cleaned_line = cleaned_line.rstrip(',')  # Remove trailing comma\n",
    "    cleaned_line = cleaned_line.replace('[', '').replace(']', '')  # Remove brackets \n",
    "    cleaned_text.append(cleaned_line.strip())  # Remove any leading/trailing whitespace\n",
    "\n",
    "def sanitize_text(text):\n",
    "    # Replace special characters with simpler alternatives\n",
    "    replacements = {\n",
    "        '\\u2014': '--',  # Replace em dash with double dash\n",
    "        '\\u2013': '-',   # Replace en dash with a single dash\n",
    "        '\\u201c': '\"',   # Replace left double quote\n",
    "        '\\u201d': '\"',   # Replace right double quote\n",
    "        '\\u2018': \"'\",   # Replace left single quote\n",
    "        '\\u2019': \"'\",   # Replace right single quote\n",
    "        '\\u2026': \".\",\n",
    "    }\n",
    "    for old, new in replacements.items():\n",
    "        text = text.replace(old, new)\n",
    "    return text\n",
    "\n",
    "# Sanitize text before adding to PDF\n",
    "cleaned_text = [sanitize_text(line) for line in cleaned_text]\n",
    "\n",
    "text_file_path = \"./00_ingredients/script.txt\"\n",
    "with open(text_file_path, mode='w', encoding='utf-8') as file:\n",
    "    file.write(campaign_title + '\\n\\n')  \n",
    "    for line in cleaned_text:\n",
    "        file.write(line + '\\n')  \n",
    "print(f\"List written to {text_file_path}\")"
   ]
  },
  {
   "cell_type": "code",
   "execution_count": null,
   "id": "90f1f188-d90d-4b12-b095-2df37d17b057",
   "metadata": {},
   "outputs": [],
   "source": [
    "revised_sections[0]"
   ]
  },
  {
   "cell_type": "code",
   "execution_count": null,
   "id": "d5d04e0b-2eb0-42c5-8e84-86ffbf8a41ea",
   "metadata": {},
   "outputs": [],
   "source": [
    "def generate_sections(sections_list):\n",
    "    sections = []\n",
    "    for section in sections_list:\n",
    "        # Split title and content based on the first newline\n",
    "        title, content = section.split(\"\\n\\n\", 1)\n",
    "        sections.append((title, content))  # Add the title and content as a tuple\n",
    "    return sections\n",
    "\n",
    "# Generate sections dynamically\n",
    "sections = generate_sections(revised_sections)\n",
    "sections"
   ]
  },
  {
   "cell_type": "code",
   "execution_count": null,
   "id": "b8f5d076-2945-41df-8f3c-60bce9990dea",
   "metadata": {},
   "outputs": [],
   "source": [
    "from jinja2 import Environment, FileSystemLoader\n",
    "from datetime import datetime\n",
    "import pdfkit\n",
    "\n",
    "\n",
    "image_path = os.path.abspath(image_title_path)\n",
    "image_url = f\"file://{image_path}\"\n",
    "\n",
    "# Define the report data, including the image URL or path\n",
    "report_data = {\n",
    "    'report_title': campaign_title,\n",
    "    'author_name': \"gpt-4o-mini - directed by NAME HERE\",\n",
    "    'title_image_url': image_url,  # Local path or URL\n",
    "    'sections':  sections,\n",
    "    'generation_date': datetime.now().strftime('%Y-%m-%d')\n",
    "}\n",
    "\n",
    "# Render the template\n",
    "env = Environment(loader=FileSystemLoader('.'))\n",
    "template = env.get_template(\"./00_ingredients/report_template.html\")\n",
    "html_content = template.render(report_data)\n",
    "\n",
    "# Save the rendered HTML to a file\n",
    "html_output_path = \"./01_output/\" + campaign_title + '/' + campaign_title +\".html\"\n",
    "pdf_output_path = \"./01_output/\" + campaign_title + '/' + campaign_title  +\".pdf\"\n",
    "\n",
    "with open(html_output_path , \"w\") as file:\n",
    "    file.write(html_content)\n",
    "\n",
    "\n",
    "options = {'enable-local-file-access': True}\n",
    "\n",
    "# Convert HTML to PDF with options\n",
    "pdfkit.from_file(html_output_path, pdf_output_path, options=options)\n",
    "\n"
   ]
  },
  {
   "cell_type": "code",
   "execution_count": null,
   "id": "32dd2dcf-7f1d-476d-a983-ed0d8df2da9b",
   "metadata": {},
   "outputs": [],
   "source": []
  },
  {
   "cell_type": "code",
   "execution_count": null,
   "id": "b54c528a-82a8-4b52-b203-e8790cf68ade",
   "metadata": {},
   "outputs": [],
   "source": []
  }
 ],
 "metadata": {
  "kernelspec": {
   "display_name": "Python 3 (ipykernel)",
   "language": "python",
   "name": "python3"
  },
  "language_info": {
   "codemirror_mode": {
    "name": "ipython",
    "version": 3
   },
   "file_extension": ".py",
   "mimetype": "text/x-python",
   "name": "python",
   "nbconvert_exporter": "python",
   "pygments_lexer": "ipython3",
   "version": "3.10.13"
  }
 },
 "nbformat": 4,
 "nbformat_minor": 5
}
